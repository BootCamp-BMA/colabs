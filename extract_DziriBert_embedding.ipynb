{
  "cells": [
    {
      "cell_type": "markdown",
      "metadata": {
        "id": "view-in-github",
        "colab_type": "text"
      },
      "source": [
        "<a href=\"https://colab.research.google.com/github/BootCamp-BMA/colabs/blob/main/extract_DziriBert_embedding.ipynb\" target=\"_parent\"><img src=\"https://colab.research.google.com/assets/colab-badge.svg\" alt=\"Open In Colab\"/></a>"
      ]
    },
    {
      "cell_type": "code",
      "execution_count": null,
      "metadata": {
        "id": "vlhS9n2jwDCa"
      },
      "outputs": [],
      "source": [
        "from transformers import BertTokenizer, BertForSequenceClassification, Trainer, TrainingArguments\n",
        "from datasets import load_dataset\n"
      ]
    },
    {
      "cell_type": "code",
      "execution_count": null,
      "metadata": {
        "id": "r4G1PwbMwDCg",
        "outputId": "76d75a04-1c6e-4c94-b176-65c6389c90d4"
      },
      "outputs": [
        {
          "name": "stderr",
          "output_type": "stream",
          "text": [
            "Some weights of BertForSequenceClassification were not initialized from the model checkpoint at alger-ia/dziribert and are newly initialized: ['bert.pooler.dense.bias', 'bert.pooler.dense.weight', 'classifier.bias', 'classifier.weight']\n",
            "You should probably TRAIN this model on a down-stream task to be able to use it for predictions and inference.\n"
          ]
        }
      ],
      "source": [
        "\n",
        "# Load tokenizer and model\n",
        "model_name = \"alger-ia/dziribert\"\n",
        "tokenizer = BertTokenizer.from_pretrained(model_name)\n",
        "model = BertForSequenceClassification.from_pretrained(model_name, num_labels=2)  # Binary classification\n"
      ]
    },
    {
      "cell_type": "code",
      "execution_count": null,
      "metadata": {
        "id": "AlhKpAmfwDCw"
      },
      "outputs": [],
      "source": [
        "import pandas as pd\n",
        "import re\n",
        "from transformers import BertTokenizer\n",
        "\n",
        "# Load dataset\n",
        "train_df = pd.read_csv(\"FASSILA/Data/Fake News/train_set.csv\")\n",
        "test_df = pd.read_csv(\"FASSILA/Data/Fake News/test_set.csv\")\n",
        "val_df = pd.read_csv(\"FASSILA/Data/Fake News/validation_set.csv\")\n",
        "\n",
        "# Arabic text normalization\n",
        "def clean_text(text):\n",
        "    text = re.sub(r\"[^\\w\\s]\", \"\", text)  # Remove punctuation\n",
        "    text = re.sub(r\"\\d+\", \"\", text)  # Remove numbers\n",
        "    return text.strip()\n",
        "\n",
        "# Apply cleaning\n",
        "train_df[\"text\"] = train_df[\"text\"].apply(clean_text)\n",
        "test_df[\"text\"] = test_df[\"text\"].apply(clean_text)\n",
        "val_df[\"text\"] = val_df[\"text\"].apply(clean_text)\n",
        "\n",
        "# Tokenize text using DziriBERT\n",
        "tokenizer = BertTokenizer.from_pretrained(\"alger-ia/dziribert\")\n",
        "train_tokens = tokenizer(list(train_df[\"text\"]), padding=True, truncation=True, return_tensors=\"pt\")\n",
        "test_tokens = tokenizer(list(test_df[\"text\"]), padding=True, truncation=True, return_tensors=\"pt\")\n",
        "val_tokens = tokenizer(list(val_df[\"text\"]), padding=True, truncation=True, return_tensors=\"pt\")\n"
      ]
    },
    {
      "cell_type": "code",
      "execution_count": null,
      "metadata": {
        "id": "bSO7-SdmwDC3",
        "outputId": "ff6882d2-58dc-4f54-b8b7-45a2a72d5f11"
      },
      "outputs": [
        {
          "name": "stderr",
          "output_type": "stream",
          "text": [
            "Some weights of BertModel were not initialized from the model checkpoint at alger-ia/dziribert and are newly initialized: ['bert.pooler.dense.bias', 'bert.pooler.dense.weight']\n",
            "You should probably TRAIN this model on a down-stream task to be able to use it for predictions and inference.\n"
          ]
        }
      ],
      "source": [
        "from transformers import BertModel\n",
        "import torch\n",
        "\n",
        "# Load DziriBERT model\n",
        "model_name = \"alger-ia/dziribert\"\n",
        "model = BertModel.from_pretrained(model_name)\n",
        "model.eval()\n",
        "\n",
        "# Function to extract embeddings\n",
        "def extract_embeddings(texts):\n",
        "    inputs = tokenizer(texts, padding=True, truncation=True, return_tensors=\"pt\")\n",
        "    with torch.no_grad():\n",
        "        outputs = model(**inputs)\n",
        "    return outputs.last_hidden_state[:, 0, :].numpy()  # CLS token embedding\n",
        "\n",
        "# Extract embeddings for train, test, validation\n",
        "train_embeddings = extract_embeddings(train_df[\"text\"].tolist())\n",
        "test_embeddings = extract_embeddings(test_df[\"text\"].tolist())\n",
        "val_embeddings = extract_embeddings(val_df[\"text\"].tolist())\n",
        "\n",
        "# Save embeddings\n",
        "pd.DataFrame(train_embeddings).to_csv(\"FASSILA/Features/Fake News/DziriBERT/train_embeddings.csv\", index=False)\n",
        "pd.DataFrame(test_embeddings).to_csv(\"FASSILA/Features/Fake News/DziriBERT/test_embeddings.csv\", index=False)\n",
        "pd.DataFrame(val_embeddings).to_csv(\"FASSILA/Features/Fake News/DziriBERT/val_embeddings.csv\", index=False)\n"
      ]
    },
    {
      "cell_type": "code",
      "execution_count": null,
      "metadata": {
        "id": "N7JV_WW_wDDA"
      },
      "outputs": [],
      "source": []
    }
  ],
  "metadata": {
    "kernelspec": {
      "display_name": "base",
      "language": "python",
      "name": "python3"
    },
    "language_info": {
      "codemirror_mode": {
        "name": "ipython",
        "version": 3
      },
      "file_extension": ".py",
      "mimetype": "text/x-python",
      "name": "python",
      "nbconvert_exporter": "python",
      "pygments_lexer": "ipython3",
      "version": "3.12.2"
    },
    "colab": {
      "provenance": [],
      "include_colab_link": true
    }
  },
  "nbformat": 4,
  "nbformat_minor": 0
}