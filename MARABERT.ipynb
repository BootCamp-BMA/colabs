{
  "nbformat": 4,
  "nbformat_minor": 0,
  "metadata": {
    "colab": {
      "provenance": [],
      "machine_shape": "hm",
      "authorship_tag": "ABX9TyMj2hr9BFt98aY0si936f27",
      "include_colab_link": true
    },
    "kernelspec": {
      "name": "python3",
      "display_name": "Python 3"
    },
    "language_info": {
      "name": "python"
    }
  },
  "cells": [
    {
      "cell_type": "markdown",
      "metadata": {
        "id": "view-in-github",
        "colab_type": "text"
      },
      "source": [
        "<a href=\"https://colab.research.google.com/github/BootCamp-BMA/colabs/blob/main/MARABERT.ipynb\" target=\"_parent\"><img src=\"https://colab.research.google.com/assets/colab-badge.svg\" alt=\"Open In Colab\"/></a>"
      ]
    },
    {
      "cell_type": "code",
      "execution_count": null,
      "metadata": {
        "colab": {
          "base_uri": "https://localhost:8080/"
        },
        "id": "4CODfqV060pM",
        "outputId": "1382fdfb-a7be-4e0b-e9f5-2c1a2254a21a"
      },
      "outputs": [
        {
          "output_type": "stream",
          "name": "stdout",
          "text": [
            "Imported all required libraries\n"
          ]
        }
      ],
      "source": [
        "# -*- coding: utf-8 -*-\n",
        "import pandas as pd\n",
        "from google.colab import drive\n",
        "import matplotlib.pyplot as plt\n",
        "from transformers import AutoTokenizer, BertForSequenceClassification, AdamW, get_scheduler\n",
        "from sklearn.model_selection import train_test_split\n",
        "import torch\n",
        "from torch.utils.data import TensorDataset, DataLoader\n",
        "import torch.nn as nn\n",
        "import time\n",
        "import os\n",
        "from sklearn.metrics import accuracy_score, classification_report, roc_auc_score\n",
        "from tqdm import tqdm\n",
        "from google.colab import drive\n",
        "drive.mount('/content/drive')\n",
        "\n",
        "print(\"Imported all required libraries\")"
      ]
    },
    {
      "cell_type": "code",
      "source": [
        "def load_and_visualize_data(file_path):\n",
        "    \"\"\"Load dataset and visualize label distribution.\"\"\"\n",
        "    drive.mount('/content/drive', force_remount=True)\n",
        "    df = pd.read_csv(file_path)\n",
        "    print(f\"Loaded dataset with shape: {df.shape}\")\n",
        "    print(\"First 10 rows:\\n\", df.head(10))\n",
        "\n",
        "    label_counts = df['label'].value_counts()\n",
        "    plt.figure(figsize=(8, 6))\n",
        "    plt.bar(['Not Fake (0)', 'Fake (1)'], label_counts, color=['green', 'red'])\n",
        "    plt.title('Distribution of Fake vs Not Fake News')\n",
        "    plt.xlabel('Label')\n",
        "    plt.ylabel('Count')\n",
        "    plt.show()\n",
        "\n",
        "    return df\n",
        "\n",
        "print(\"Defined load_and_visualize_data function\")"
      ],
      "metadata": {
        "colab": {
          "base_uri": "https://localhost:8080/"
        },
        "id": "6lqSDMZC7C05",
        "outputId": "3d2d97cd-294a-4a33-8d49-32ef629f1009"
      },
      "execution_count": null,
      "outputs": [
        {
          "output_type": "stream",
          "name": "stdout",
          "text": [
            "Defined load_and_visualize_data function\n"
          ]
        }
      ]
    },
    {
      "cell_type": "code",
      "source": [
        "def load_and_visualize_data(file_path):\n",
        "    \"\"\"Load dataset and visualize label distribution.\"\"\"\n",
        "    drive.mount('/content/drive', force_remount=True)\n",
        "    df = pd.read_csv(file_path)\n",
        "    print(f\"Loaded dataset with shape: {df.shape}\")\n",
        "    print(\"First 10 rows:\\n\", df.head(10))\n",
        "\n",
        "    label_counts = df['label'].value_counts()\n",
        "    plt.figure(figsize=(8, 6))\n",
        "    plt.bar(['Not Fake (0)', 'Fake (1)'], label_counts, color=['green', 'red'])\n",
        "    plt.title('Distribution of Fake vs Not Fake News')\n",
        "    plt.xlabel('Label')\n",
        "    plt.ylabel('Count')\n",
        "    plt.show()\n",
        "\n",
        "    return df\n",
        "\n",
        "print(\"Defined load_and_visualize_data function\")"
      ],
      "metadata": {
        "id": "zPT5qrj47Rzl",
        "colab": {
          "base_uri": "https://localhost:8080/"
        },
        "outputId": "4e836767-90e6-40c5-ecfe-818971c18a4a"
      },
      "execution_count": null,
      "outputs": [
        {
          "output_type": "stream",
          "name": "stdout",
          "text": [
            "Defined load_and_visualize_data function\n"
          ]
        }
      ]
    },
    {
      "cell_type": "code",
      "source": [
        "def split_and_tokenize_data(df, tokenizer_name='UBC-NLP/MARBERT', max_length=128, test_size=0.2, random_state=42):\n",
        "    \"\"\"Split data into train/test and tokenize.\"\"\"\n",
        "    train_texts, test_texts, train_labels, test_labels = train_test_split(\n",
        "        df['news'].tolist(),\n",
        "        df['label'].tolist(),\n",
        "        test_size=test_size,\n",
        "        random_state=random_state\n",
        "    )\n",
        "    print(f\"Split data: Train size: {len(train_texts)}, Test size: {len(test_texts)}\")\n",
        "\n",
        "    tokenizer = AutoTokenizer.from_pretrained(tokenizer_name)\n",
        "    print(f\"Loaded tokenizer: {tokenizer_name}\")\n",
        "\n",
        "    train_tokens = tokenizer(train_texts, max_length=max_length, padding='max_length', truncation=True, return_tensors='pt')\n",
        "    test_tokens = tokenizer(test_texts, max_length=max_length, padding='max_length', truncation=True, return_tensors='pt')\n",
        "    print(\"Tokenized train data. Input IDs shape:\", train_tokens['input_ids'].shape)\n",
        "    print(\"Tokenized test data. Input IDs shape:\", test_tokens['input_ids'].shape)\n",
        "\n",
        "    train_labels = torch.tensor(train_labels)\n",
        "    test_labels = torch.tensor(test_labels)\n",
        "    print(\"Converted labels to tensors. Train shape:\", train_labels.shape, \"Test shape:\", test_labels.shape)\n",
        "\n",
        "    return train_tokens, test_tokens, train_labels, test_labels\n",
        "\n",
        "print(\"Defined split_and_tokenize_data function\")"
      ],
      "metadata": {
        "colab": {
          "base_uri": "https://localhost:8080/"
        },
        "id": "BCTrnosa-QV8",
        "outputId": "b2228a40-9d70-4bec-c050-b72c8a767fd5"
      },
      "execution_count": null,
      "outputs": [
        {
          "output_type": "stream",
          "name": "stdout",
          "text": [
            "Defined split_and_tokenize_data function\n"
          ]
        }
      ]
    },
    {
      "cell_type": "code",
      "source": [
        "def create_dataloaders(train_tokens, test_tokens, train_labels, test_labels, batch_size=16):\n",
        "    \"\"\"Create DataLoaders for training and testing.\"\"\"\n",
        "    train_data = TensorDataset(train_tokens['input_ids'], train_tokens['attention_mask'], train_labels)\n",
        "    test_data = TensorDataset(test_tokens['input_ids'], test_tokens['attention_mask'], test_labels)\n",
        "    print(\"Created TensorDatasets. Train length:\", len(train_data), \"Test length:\", len(test_data))\n",
        "\n",
        "    train_dataloader = DataLoader(train_data, batch_size=batch_size, shuffle=True)\n",
        "    test_dataloader = DataLoader(test_data, batch_size=batch_size, shuffle=False)\n",
        "    print(f\"Created DataLoaders with batch size {batch_size}. Train batches:\", len(train_dataloader), \"Test batches:\", len(test_dataloader))\n",
        "\n",
        "    return train_dataloader, test_dataloader\n",
        "\n",
        "print(\"Defined create_dataloaders function\")"
      ],
      "metadata": {
        "colab": {
          "base_uri": "https://localhost:8080/"
        },
        "id": "ORdVRmSp_g8N",
        "outputId": "ffbb197d-4a9d-477f-d13d-e316468233a5"
      },
      "execution_count": null,
      "outputs": [
        {
          "output_type": "stream",
          "name": "stdout",
          "text": [
            "Defined create_dataloaders function\n"
          ]
        }
      ]
    },
    {
      "cell_type": "code",
      "source": [
        "def setup_model_and_device(model_name='UBC-NLP/MARBERT', num_labels=2, layer_control=None):\n",
        "    \"\"\"Set up MARBERT model and device, with optional layer control.\"\"\"\n",
        "    device = torch.device(\"cuda\" if torch.cuda.is_available() else \"cpu\")\n",
        "    model = BertForSequenceClassification.from_pretrained(model_name, num_labels=num_labels)\n",
        "    model.to(device)\n",
        "    print(f\"Loaded {model_name} model with {num_labels} labels and moved to {device}\")\n",
        "\n",
        "    if layer_control:\n",
        "        for i, layer in enumerate(model.bert.encoder.layer):\n",
        "            for param in layer.parameters():\n",
        "                param.requires_grad = layer_control.get(i, False)\n",
        "        print(\"----------------------------------------\")\n",
        "        print(f\"Number of transformer layers: {len(model.bert.encoder.layer)}\")\n",
        "        for i, layer in enumerate(model.bert.encoder.layer):\n",
        "            trainable = any(param.requires_grad for param in layer.parameters())\n",
        "            print(f\"Layer {i}: {'Trainable' if trainable else 'Frozen'}\")\n",
        "        print(\"----------------------------------------\")\n",
        "\n",
        "    return model, device\n",
        "\n",
        "print(\"Defined setup_model_and_device function\")"
      ],
      "metadata": {
        "colab": {
          "base_uri": "https://localhost:8080/"
        },
        "id": "TEQVMBb8BVLG",
        "outputId": "1dacbd94-c834-4e0b-e47e-0b079bb36cbc"
      },
      "execution_count": null,
      "outputs": [
        {
          "output_type": "stream",
          "name": "stdout",
          "text": [
            "Defined setup_model_and_device function\n"
          ]
        }
      ]
    },
    {
      "cell_type": "code",
      "source": [
        "def setup_training_components(model, train_dataloader, num_epochs=5, lr=2e-5, class_weights=[2.0, 1.0], device=None):\n",
        "    \"\"\"Set up optimizer, scheduler, and loss function.\"\"\"\n",
        "    optimizer = AdamW(model.parameters(), lr=lr, eps=1e-8)\n",
        "    num_training_steps = len(train_dataloader) * num_epochs\n",
        "    lr_scheduler = get_scheduler(\"linear\", optimizer=optimizer, num_warmup_steps=0, num_training_steps=num_training_steps)\n",
        "    print(f\"Set up AdamW optimizer (lr={lr}) and linear scheduler. Total steps: {num_training_steps}\")\n",
        "\n",
        "    class_weights = torch.tensor(class_weights).to(device)\n",
        "    criterion = nn.CrossEntropyLoss(weight=class_weights)\n",
        "    print(f\"Defined CrossEntropyLoss with class weights {class_weights.tolist()} on {device}\")\n",
        "\n",
        "    return optimizer, lr_scheduler, criterion\n",
        "\n",
        "print(\"Defined setup_training_components function\")"
      ],
      "metadata": {
        "colab": {
          "base_uri": "https://localhost:8080/"
        },
        "id": "kCxyseQVBW4E",
        "outputId": "38921648-36d5-40ca-891d-a42b22773d77"
      },
      "execution_count": null,
      "outputs": [
        {
          "output_type": "stream",
          "name": "stdout",
          "text": [
            "Defined setup_training_components function\n"
          ]
        }
      ]
    },
    {
      "cell_type": "code",
      "source": [
        "def train_model(model, train_dataloader, optimizer, criterion, lr_scheduler, device, epochs=5):\n",
        "    \"\"\"Train the model.\"\"\"\n",
        "    print(\"Starting Training...\\n\")\n",
        "    model.train()\n",
        "    start_time = time.time()\n",
        "\n",
        "    for epoch in range(epochs):\n",
        "        print(f\"Epoch {epoch+1}/{epochs}\")\n",
        "        loop = tqdm(train_dataloader, desc=f\"Training Epoch {epoch+1}\")\n",
        "        total_loss = 0\n",
        "        for batch in loop:\n",
        "            input_ids, attention_mask, labels = [b.to(device) for b in batch]\n",
        "            optimizer.zero_grad()\n",
        "            outputs = model(input_ids, attention_mask=attention_mask)\n",
        "            loss = criterion(outputs.logits, labels)\n",
        "            loss.backward()\n",
        "            optimizer.step()\n",
        "            lr_scheduler.step()\n",
        "            total_loss += loss.item()\n",
        "            loop.set_postfix(loss=loss.item())\n",
        "        avg_loss = total_loss / len(train_dataloader)\n",
        "        print(f\"Average loss for Epoch {epoch+1}: {avg_loss:.4f}\")\n",
        "\n",
        "    elapsed_time = time.time() - start_time\n",
        "    print(f\"\\nTraining complete! Total time elapsed: {elapsed_time:.2f} seconds\")\n",
        "\n",
        "print(\"Defined train_model function\")"
      ],
      "metadata": {
        "colab": {
          "base_uri": "https://localhost:8080/"
        },
        "id": "lwMjVy0JBY-7",
        "outputId": "369107bd-a6c5-499f-a6aa-0dcce35ca0e2"
      },
      "execution_count": null,
      "outputs": [
        {
          "output_type": "stream",
          "name": "stdout",
          "text": [
            "Defined train_model function\n"
          ]
        }
      ]
    },
    {
      "cell_type": "code",
      "source": [
        "def evaluate_model(model, test_dataloader, device):\n",
        "    \"\"\"Evaluate the model on test data.\"\"\"\n",
        "    model.eval()\n",
        "    all_preds, all_labels = [], []\n",
        "\n",
        "    with torch.no_grad():\n",
        "        for batch in test_dataloader:\n",
        "            input_ids, attention_mask, labels = [b.to(device) for b in batch]\n",
        "            outputs = model(input_ids, attention_mask=attention_mask)\n",
        "            preds = torch.argmax(outputs.logits, dim=1)\n",
        "            all_preds.extend(preds.cpu().numpy())\n",
        "            all_labels.extend(labels.cpu().numpy())\n",
        "\n",
        "    accuracy = accuracy_score(all_labels, all_preds)\n",
        "    class_report = classification_report(all_labels, all_preds, target_names=['Not Fake', 'Fake'])\n",
        "    roc_auc = roc_auc_score(all_labels, all_preds)\n",
        "\n",
        "    print(\"Evaluation completed on test set\")\n",
        "    print(f\"Accuracy: {accuracy:.4f}\")\n",
        "    print(f\"Classification Report:\\n{class_report}\")\n",
        "    print(f\"ROC-AUC Score: {roc_auc:.4f}\")\n",
        "\n",
        "    return all_preds, all_labels\n",
        "\n",
        "print(\"Defined evaluate_model function\")"
      ],
      "metadata": {
        "colab": {
          "base_uri": "https://localhost:8080/"
        },
        "id": "as4YpB8TBa74",
        "outputId": "ef161e94-a8df-4d51-dac5-8fca31b354bc"
      },
      "execution_count": null,
      "outputs": [
        {
          "output_type": "stream",
          "name": "stdout",
          "text": [
            "Defined evaluate_model function\n"
          ]
        }
      ]
    },
    {
      "cell_type": "code",
      "source": [
        "def extract_and_save_embeddings(model, train_dataloader, test_dataloader, device, save_dir):\n",
        "    \"\"\"Extract and save embeddings.\"\"\"\n",
        "    def extract(dataloader, desc):\n",
        "        model.eval()\n",
        "        embeddings = []\n",
        "        with torch.no_grad():\n",
        "            for batch in tqdm(dataloader, desc=desc):\n",
        "                input_ids, attention_mask, _ = [b.to(device) for b in batch]\n",
        "                outputs = model.bert(input_ids, attention_mask=attention_mask)\n",
        "                batch_embeddings = outputs.last_hidden_state[:, 0, :].cpu().numpy()\n",
        "                embeddings.extend(batch_embeddings)\n",
        "        print(f\"Extracted embeddings for {len(embeddings)} samples\")\n",
        "        return embeddings\n",
        "\n",
        "    train_embeddings = extract(train_dataloader, \"Extracting Train Embeddings\")\n",
        "    test_embeddings = extract(test_dataloader, \"Extracting Test Embeddings\")\n",
        "\n",
        "    os.makedirs(save_dir, exist_ok=True)\n",
        "    train_emb_path = os.path.join(save_dir, \"train_embeddings.csv\")\n",
        "    test_emb_path = os.path.join(save_dir, \"test_embeddings.csv\")\n",
        "\n",
        "    train_emb_df = pd.DataFrame(train_embeddings)\n",
        "    test_emb_df = pd.DataFrame(test_embeddings)\n",
        "    train_emb_df.to_csv(train_emb_path, index=False)\n",
        "    test_emb_df.to_csv(test_emb_path, index=False)\n",
        "\n",
        "    print(\"Embeddings saved successfully!\")\n",
        "    print(\"-------------------------------------\")\n",
        "    print(\"Top 5 Test Embeddings:\")\n",
        "    print(test_emb_df.head(5))\n",
        "\n",
        "print(\"Defined extract_and_save_embeddings function\")"
      ],
      "metadata": {
        "colab": {
          "base_uri": "https://localhost:8080/"
        },
        "id": "zhaMqO_2BdIU",
        "outputId": "58331dbd-361a-45ce-a8c0-253c3a2e8a9d"
      },
      "execution_count": null,
      "outputs": [
        {
          "output_type": "stream",
          "name": "stdout",
          "text": [
            "Defined extract_and_save_embeddings function\n"
          ]
        }
      ]
    },
    {
      "cell_type": "code",
      "source": [
        "# def main():\n",
        "#     \"\"\"Main function to run the entire pipeline.\"\"\"\n",
        "#     # Define parameters\n",
        "#     file_path = '/content/drive/MyDrive/arabic_fake_news/FASSILA/cleaned_data.csv'\n",
        "#     save_dir = '/content/drive/MyDrive/arabic_fake_news/FASSILA/'\n",
        "#     batch_size = 16\n",
        "#     num_epochs = 5\n",
        "#     max_length = 128\n",
        "#     lr = 2e-5\n",
        "#     class_weights = [2.0, 1.0]\n",
        "#     layer_control = {\n",
        "#         0: True, 1: True, 2: True, 3: True, 4: True, 5: True,\n",
        "#         6: True, 7: True, 8: True, 9: True, 10: True, 11: True\n",
        "#     }\n",
        "\n",
        "#     # Execute pipeline\n",
        "#     df = load_and_visualize_data(file_path)\n",
        "#     train_tokens, test_tokens, train_labels, test_labels = split_and_tokenize_data(df, max_length=max_length)\n",
        "#     train_dataloader, test_dataloader = create_dataloaders(train_tokens, test_tokens, train_labels, test_labels, batch_size)\n",
        "#     model, device = setup_model_and_device(layer_control=layer_control)\n",
        "#     optimizer, lr_scheduler, criterion = setup_training_components(model, train_dataloader, num_epochs, lr, class_weights, device)\n",
        "#     train_model(model, train_dataloader, optimizer, criterion, lr_scheduler, device, num_epochs)\n",
        "#     evaluate_model(model, test_dataloader, device)\n",
        "#     extract_and_save_embeddings(model, train_dataloader, test_dataloader, device, save_dir)\n",
        "\n",
        "# # Run the pipeline\n",
        "# main()\n",
        "# print(\"Pipeline execution completed!\")"
      ],
      "metadata": {
        "id": "wA3ry1_YBfNX"
      },
      "execution_count": null,
      "outputs": []
    },
    {
      "cell_type": "code",
      "source": [
        "import itertools\n",
        "import pandas as pd\n",
        "import time\n",
        "import torch\n",
        "import transformers\n",
        "import os\n",
        "import random\n",
        "\n",
        "def main():\n",
        "    \"\"\"Optimized function using Randomized Search while avoiding duplicate configurations.\"\"\"\n",
        "    # Define parameter lists\n",
        "    file_path = '/content/drive/MyDrive/arabic_fake_news/FASSILA/cleaned_data.csv'\n",
        "    save_dir = '/content/drive/MyDrive/arabic_fake_news/FASSILA/'\n",
        "    results_path = os.path.join(save_dir, \"experiment_results_MARABERT.csv\")\n",
        "\n",
        "    batch_sizes = [8, 16, 32]\n",
        "    num_epochs_list = [3, 5, 7]\n",
        "    max_lengths = [64, 128, 256]\n",
        "    learning_rates = [1e-5, 2e-5, 5e-5]\n",
        "    class_weights_list = [[1.0, 1.0], [2.0, 1.0], [1.0, 2.0]]\n",
        "\n",
        "    # Load data once\n",
        "    df = load_and_visualize_data(file_path)\n",
        "    dataset_size = len(df)\n",
        "\n",
        "    # System information\n",
        "    device = torch.device(\"cuda\" if torch.cuda.is_available() else \"cpu\")\n",
        "    cuda_available = torch.cuda.is_available()\n",
        "    torch_version = torch.__version__\n",
        "    transformers_version = transformers.__version__\n",
        "\n",
        "    # Results storage\n",
        "    results = []\n",
        "    save_interval = 10  # Save results every 10 experiments\n",
        "    max_runtime = 12 * 3600  # 12 hours in seconds\n",
        "    start_global_time = time.time()\n",
        "\n",
        "    # Track unique experiment configurations\n",
        "    tested_configs = set()\n",
        "\n",
        "    num_layers = 12\n",
        "    num_experiments = 1000  # Limit to 1000 randomized experiments\n",
        "    layer_indices = list(range(num_layers))\n",
        "\n",
        "    while len(results) < num_experiments:\n",
        "        if time.time() - start_global_time > max_runtime:\n",
        "            print(\"⏳ Time limit reached (12 hours). Stopping experiments.\")\n",
        "            break  # Stop if 12 hours exceeded\n",
        "\n",
        "        # Randomly select hyperparameters\n",
        "        batch_size = random.choice(batch_sizes)\n",
        "        num_epochs = random.choice(num_epochs_list)\n",
        "        max_length = random.choice(max_lengths)\n",
        "        lr = random.choice(learning_rates)\n",
        "        class_weights = random.choice(class_weights_list)\n",
        "\n",
        "        # Randomly select trainable layers (1 to 6 layers frozen randomly)\n",
        "        num_trainable = random.randint(1, 6)\n",
        "        frozen_layers = tuple(sorted(random.sample(layer_indices, num_trainable)))  # Use tuple to store in set\n",
        "\n",
        "        # Create a unique key for this configuration\n",
        "        config_key = (batch_size, num_epochs, max_length, lr, str(class_weights), frozen_layers)\n",
        "\n",
        "        # Check if this configuration was tested before\n",
        "        if config_key in tested_configs:\n",
        "            continue  # Skip this iteration and try another random configuration\n",
        "\n",
        "        # Mark this configuration as tested\n",
        "        tested_configs.add(config_key)\n",
        "\n",
        "        layer_control = {i: (i not in frozen_layers) for i in range(num_layers)}\n",
        "\n",
        "        print(\"\\n🔹 Starting new experiment configuration:\")\n",
        "        print(f\"Batch: {batch_size}, Epochs: {num_epochs}, Max Length: {max_length}, LR: {lr}, Class Weights: {class_weights}\")\n",
        "        print(f\"Trainable Layers: {layer_control}\")\n",
        "\n",
        "        start_time = time.time()\n",
        "\n",
        "        try:\n",
        "            # Data processing\n",
        "            train_tokens, test_tokens, train_labels, test_labels = split_and_tokenize_data(df, max_length=max_length)\n",
        "            train_dataloader, test_dataloader = create_dataloaders(train_tokens, test_tokens, train_labels, test_labels, batch_size)\n",
        "\n",
        "            # Model setup\n",
        "            model, device = setup_model_and_device(layer_control=layer_control)\n",
        "\n",
        "            # Training setup\n",
        "            optimizer, lr_scheduler, criterion = setup_training_components(model, train_dataloader, num_epochs, lr, class_weights, device)\n",
        "\n",
        "            # Training\n",
        "            train_model(model, train_dataloader, optimizer, criterion, lr_scheduler, device, num_epochs)\n",
        "\n",
        "            # Evaluation\n",
        "            preds, labels = evaluate_model(model, test_dataloader, device)\n",
        "            accuracy = accuracy_score(labels, preds)\n",
        "            roc_auc = roc_auc_score(labels, preds)\n",
        "\n",
        "            elapsed_time = time.time() - start_time\n",
        "\n",
        "            # Store results for this iteration\n",
        "            result = {\n",
        "                'dataset_path': file_path,\n",
        "                'dataset_size': dataset_size,\n",
        "                'batch_size': batch_size,\n",
        "                'num_epochs': num_epochs,\n",
        "                'max_length': max_length,\n",
        "                'learning_rate': lr,\n",
        "                'class_weights': str(class_weights),\n",
        "                'trainable_layers': str(frozen_layers),\n",
        "                'num_trainable_layers': num_trainable,\n",
        "                'device': str(device),\n",
        "                'cuda_available': cuda_available,\n",
        "                'torch_version': torch_version,\n",
        "                'transformers_version': transformers_version,\n",
        "                'execution_time': elapsed_time,\n",
        "                'accuracy': accuracy,\n",
        "                'roc_auc': roc_auc\n",
        "            }\n",
        "            results.append(result)\n",
        "\n",
        "            # Save periodically\n",
        "            if len(results) % save_interval == 0:\n",
        "                pd.DataFrame(results).to_csv(results_path, index=False)\n",
        "                print(f\" Saved intermediate results to {results_path}\")\n",
        "            print()\n",
        "            print('############################################################################')\n",
        "            print(result)\n",
        "            print('############################################################################')\n",
        "            print()\n",
        "        except Exception as e:\n",
        "            print(f\" Error in iteration: {str(e)}\")\n",
        "\n",
        "    # Final Save\n",
        "    pd.DataFrame(results).to_csv(results_path, index=False)\n",
        "    print(\"\\n All experiments completed!\")\n",
        "    print(f\" Final results saved to {results_path}\")\n",
        "    print(\" Top 5 results sorted by accuracy:\")\n",
        "    print(pd.DataFrame(results).sort_values(by='accuracy', ascending=False).head(5))\n",
        "\n",
        "    return pd.DataFrame(results)\n",
        "\n",
        "# Run the pipeline\n",
        "results_df = main()\n"
      ],
      "metadata": {
        "id": "ZFNlcz6CQlOo"
      },
      "execution_count": null,
      "outputs": []
    }
  ]
}